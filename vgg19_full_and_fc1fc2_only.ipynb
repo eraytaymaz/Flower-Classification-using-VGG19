{
 "cells": [
  {
   "cell_type": "code",
   "execution_count": 1,
   "id": "e252477f",
   "metadata": {},
   "outputs": [],
   "source": [
    "import torchvision.models as models\n",
    "import torch.nn as nn\n",
    "import torch\n",
    "from torchvision import datasets, transforms\n",
    "from torch.utils.data import DataLoader\n",
    "from sklearn.metrics import accuracy_score\n",
    "from sklearn.metrics import precision_score\n",
    "from sklearn.metrics import recall_score\n",
    "from sklearn.metrics import f1_score\n",
    "from sklearn.metrics import confusion_matrix\n",
    "import seaborn as sns\n",
    "import matplotlib.pyplot as plt"
   ]
  },
  {
   "cell_type": "markdown",
   "id": "5bd26d00",
   "metadata": {},
   "source": [
    "May try to calculate metrics on every batch instead of calculating at the end of all batches"
   ]
  },
  {
   "cell_type": "code",
   "execution_count": 2,
   "id": "3ca87332",
   "metadata": {},
   "outputs": [],
   "source": [
    "device = torch.device(\"cuda\" if torch.cuda.is_available() else \"cpu\")"
   ]
  },
  {
   "cell_type": "code",
   "execution_count": 3,
   "id": "bdd99102",
   "metadata": {},
   "outputs": [
    {
     "data": {
      "text/plain": [
       "device(type='cuda')"
      ]
     },
     "execution_count": 3,
     "metadata": {},
     "output_type": "execute_result"
    }
   ],
   "source": [
    "device"
   ]
  },
  {
   "cell_type": "code",
   "execution_count": 30,
   "id": "50419ada",
   "metadata": {},
   "outputs": [],
   "source": [
    "model =  models.vgg19(weights='IMAGENET1K_V1').to(device)"
   ]
  },
  {
   "cell_type": "code",
   "execution_count": 31,
   "id": "8c08d1f6",
   "metadata": {},
   "outputs": [],
   "source": [
    "for param in model.parameters():\n",
    "    param.requires_grad = False\n",
    "model.classifier[0].requires_grad = True\n",
    "model.classifier[3].requires_grad = True"
   ]
  },
  {
   "cell_type": "code",
   "execution_count": 32,
   "id": "d53db76a",
   "metadata": {},
   "outputs": [],
   "source": [
    "model.classifier[6] = nn.Linear(4096, 15).to(device)"
   ]
  },
  {
   "cell_type": "code",
   "execution_count": 33,
   "id": "0d470669",
   "metadata": {},
   "outputs": [],
   "source": [
    "data_transform = transforms.Compose([\n",
    "    transforms.Resize((224, 224)),\n",
    "    transforms.ToTensor(),\n",
    "    transforms.Normalize(mean=[0.485, 0.456, 0.406], std=[0.229, 0.224, 0.225])\n",
    "])"
   ]
  },
  {
   "cell_type": "code",
   "execution_count": 34,
   "id": "65c8a101",
   "metadata": {},
   "outputs": [],
   "source": [
    "train_dataset = datasets.ImageFolder(\"flowers/train\", transform=data_transform)\n",
    "train_dataloader = DataLoader(train_dataset, batch_size=64, shuffle=True, pin_memory=True)"
   ]
  },
  {
   "cell_type": "code",
   "execution_count": 35,
   "id": "058e778d",
   "metadata": {},
   "outputs": [],
   "source": [
    "val_dataset = datasets.ImageFolder(\"flowers/val\", transform=data_transform)\n",
    "val_dataloader = DataLoader(val_dataset, batch_size=64, shuffle=False, pin_memory=True)"
   ]
  },
  {
   "cell_type": "code",
   "execution_count": 36,
   "id": "244302b0",
   "metadata": {},
   "outputs": [],
   "source": [
    "test_dataset = datasets.ImageFolder(\"flowers/test\", transform=data_transform)\n",
    "test_dataloader = DataLoader(test_dataset, batch_size=64, shuffle=False, pin_memory=True)"
   ]
  },
  {
   "cell_type": "code",
   "execution_count": 37,
   "id": "d12fcd97",
   "metadata": {},
   "outputs": [],
   "source": [
    "criterion = nn.CrossEntropyLoss()"
   ]
  },
  {
   "cell_type": "code",
   "execution_count": 38,
   "id": "4f075e6e",
   "metadata": {},
   "outputs": [],
   "source": [
    "optimizer = torch.optim.SGD(model.parameters(), lr=0.01, momentum=0.9)"
   ]
  },
  {
   "cell_type": "code",
   "execution_count": 39,
   "id": "b8d92d44",
   "metadata": {},
   "outputs": [],
   "source": [
    "def train(model, train_dataloader, val_dataloader, criterion, optimizer, num_epoches=5):\n",
    "    \n",
    "    val_losses = []\n",
    "    val_precisions = []\n",
    "    val_recalls = []\n",
    "    val_f1_scores = []\n",
    "    val_accuracies = []\n",
    "    \n",
    "    for epoch in range(num_epoches):\n",
    "        model.train()\n",
    "        for images, labels in train_dataloader:\n",
    "            images, labels = images.to(device), labels.to(device)\n",
    "            optimizer.zero_grad()\n",
    "            outputs = model(images)\n",
    "            loss = criterion(outputs, labels)\n",
    "            loss.backward()\n",
    "            optimizer.step()\n",
    "        \n",
    "        val_loss, val_accuracy, val_precision, val_recall, val_f1, _, _ = evaluate(model, val_dataloader, criterion)\n",
    "        val_losses.append(val_loss)\n",
    "        val_accuracies.append(val_accuracy)\n",
    "        val_precisions.append(val_precision)\n",
    "        val_recalls.append(val_recall)\n",
    "        val_f1_scores.append(val_f1)\n",
    "        \n",
    "        print(f'Epoch {epoch + 1}/{num_epoches}, Validation Accuracy: {100 * val_accuracy:.2f}%, Validation Loss: {val_loss:.2f}')\n",
    "    \n",
    "    plt.figure(figsize=(15, 5))\n",
    "    \n",
    "    plt.subplot(1, 4, 1)\n",
    "    plt.plot(val_losses, label='Validation')\n",
    "    plt.title('Validation Loss')\n",
    "    plt.xlabel('Epochs')\n",
    "    plt.ylabel('Loss')\n",
    "    plt.legend()\n",
    "\n",
    "    metrics = [('Accuracy', val_accuracies),\n",
    "               ('Precision', val_precisions),\n",
    "               ('Recall', val_recalls),\n",
    "               ('F1 Score', val_f1_scores)]\n",
    "\n",
    "    for i, (metric_name, val_metric) in enumerate(metrics, start=2):\n",
    "        plt.subplot(1, 4, i)\n",
    "        plt.plot(val_metric, label='Validation')\n",
    "        plt.title(f'Validation {metric_name}')\n",
    "        plt.xlabel('Epochs')\n",
    "        plt.ylabel(metric_name)\n",
    "        plt.legend()\n",
    "\n",
    "    plt.tight_layout()\n",
    "    plt.show()"
   ]
  },
  {
   "cell_type": "code",
   "execution_count": 40,
   "id": "a4dc8f4f",
   "metadata": {},
   "outputs": [],
   "source": [
    "def evaluate(model, dataloader, criterion):\n",
    "    model.eval()\n",
    "    running_loss = 0\n",
    "    all_preds = []\n",
    "    all_labels = []\n",
    "    with torch.no_grad():\n",
    "        for images, labels in dataloader:\n",
    "            images, labels = images.to(device), labels.to(device)\n",
    "            outputs = model(images)\n",
    "            loss = criterion(outputs, labels)\n",
    "            _, preds = torch.max(outputs, 1)\n",
    "            running_loss += loss.item()\n",
    "            all_preds.extend(preds.cpu().numpy())\n",
    "            all_labels.extend(labels.cpu().numpy())\n",
    "        loss = running_loss / len(dataloader)\n",
    "        accuracy = accuracy_score(all_labels, all_preds)\n",
    "        precision = precision_score(all_labels, all_preds, average='weighted')\n",
    "        recall = recall_score(all_labels, all_preds, average='weighted')\n",
    "        f1 = f1_score(all_labels, all_preds, average='weighted')\n",
    "    return loss, accuracy, precision, recall, f1, all_preds, all_labels"
   ]
  },
  {
   "cell_type": "code",
   "execution_count": null,
   "id": "6beb4d93",
   "metadata": {},
   "outputs": [],
   "source": [
    "def get_cm(all_preds, all_labels):\n",
    "    cm = confusion_matrix(all_labels, all_preds)\n",
    "\n",
    "plt.figure(figsize=(14, 14))\n",
    "sns.heatmap(cm, annot=True, fmt='d', cbar=False,\n",
    "            xticklabels=['Aster', 'Calendula', 'California Poppy', \"Coreopsis\",\"Daisy\",\"Dandelion\",\n",
    "                         \"Iris\",\"Lavender\",\"Lily\",\"Marigold\",\"Orchid\",\"Poppy\",\"Rose\",\"Sunflower\",\"Tulip\"], \n",
    "            yticklabels=['Aster', 'Calendula', 'California Poppy', \"Coreopsis\",\"Daisy\",\"Dandelion\",\n",
    "                         \"Iris\",\"Lavender\",\"Lily\",\"Marigold\",\"Orchid\",\"Poppy\",\"Rose\",\"Sunflower\",\"Tulip\"], \n",
    "            )\n",
    "plt.xlabel('Predicted')\n",
    "plt.ylabel('True')\n",
    "plt.title('Confusion Matrix Heatmap')\n",
    "plt.show()"
   ]
  },
  {
   "cell_type": "code",
   "execution_count": 41,
   "id": "8ade3605",
   "metadata": {
    "scrolled": false
   },
   "outputs": [
    {
     "name": "stdout",
     "output_type": "stream",
     "text": [
      "Epoch 1/20, Validation Accuracy: 71.42%, Validation Loss: 0.94\n",
      "Epoch 2/20, Validation Accuracy: 70.67%, Validation Loss: 0.98\n",
      "Epoch 3/20, Validation Accuracy: 72.04%, Validation Loss: 0.95\n",
      "Epoch 4/20, Validation Accuracy: 71.11%, Validation Loss: 0.98\n",
      "Epoch 5/20, Validation Accuracy: 72.09%, Validation Loss: 1.06\n",
      "Epoch 6/20, Validation Accuracy: 74.31%, Validation Loss: 0.88\n",
      "Epoch 7/20, Validation Accuracy: 73.96%, Validation Loss: 0.98\n",
      "Epoch 8/20, Validation Accuracy: 71.73%, Validation Loss: 1.04\n",
      "Epoch 9/20, Validation Accuracy: 76.04%, Validation Loss: 0.90\n"
     ]
    },
    {
     "ename": "KeyboardInterrupt",
     "evalue": "",
     "output_type": "error",
     "traceback": [
      "\u001b[1;31m---------------------------------------------------------------------------\u001b[0m",
      "\u001b[1;31mKeyboardInterrupt\u001b[0m                         Traceback (most recent call last)",
      "Cell \u001b[1;32mIn[41], line 1\u001b[0m\n\u001b[1;32m----> 1\u001b[0m train(model, train_dataloader, val_dataloader, criterion, optimizer, \u001b[38;5;241m20\u001b[39m)\n",
      "Cell \u001b[1;32mIn[39], line 12\u001b[0m, in \u001b[0;36mtrain\u001b[1;34m(model, train_dataloader, val_dataloader, criterion, optimizer, num_epoches)\u001b[0m\n\u001b[0;32m     10\u001b[0m model\u001b[38;5;241m.\u001b[39mtrain()\n\u001b[0;32m     11\u001b[0m \u001b[38;5;28;01mfor\u001b[39;00m images, labels \u001b[38;5;129;01min\u001b[39;00m train_dataloader:\n\u001b[1;32m---> 12\u001b[0m     images, labels \u001b[38;5;241m=\u001b[39m images\u001b[38;5;241m.\u001b[39mto(device), labels\u001b[38;5;241m.\u001b[39mto(device)\n\u001b[0;32m     13\u001b[0m     optimizer\u001b[38;5;241m.\u001b[39mzero_grad()\n\u001b[0;32m     14\u001b[0m     outputs \u001b[38;5;241m=\u001b[39m model(images)\n",
      "\u001b[1;31mKeyboardInterrupt\u001b[0m: "
     ]
    }
   ],
   "source": [
    "train(model, train_dataloader, val_dataloader, criterion, optimizer, 20)"
   ]
  },
  {
   "cell_type": "code",
   "execution_count": 46,
   "id": "7e00a413",
   "metadata": {},
   "outputs": [
    {
     "ename": "KeyboardInterrupt",
     "evalue": "",
     "output_type": "error",
     "traceback": [
      "\u001b[1;31m---------------------------------------------------------------------------\u001b[0m",
      "\u001b[1;31mKeyboardInterrupt\u001b[0m                         Traceback (most recent call last)",
      "Cell \u001b[1;32mIn[46], line 1\u001b[0m\n\u001b[1;32m----> 1\u001b[0m loss, accuracy, precision, recall, f1, all_preds, all_labels \u001b[38;5;241m=\u001b[39m evaluate(model, test_dataloader, criterion)\n",
      "Cell \u001b[1;32mIn[40], line 12\u001b[0m, in \u001b[0;36mevaluate\u001b[1;34m(model, dataloader, criterion)\u001b[0m\n\u001b[0;32m     10\u001b[0m loss \u001b[38;5;241m=\u001b[39m criterion(outputs, labels)\n\u001b[0;32m     11\u001b[0m _, preds \u001b[38;5;241m=\u001b[39m torch\u001b[38;5;241m.\u001b[39mmax(outputs, \u001b[38;5;241m1\u001b[39m)\n\u001b[1;32m---> 12\u001b[0m running_loss \u001b[38;5;241m+\u001b[39m\u001b[38;5;241m=\u001b[39m loss\u001b[38;5;241m.\u001b[39mitem()\n\u001b[0;32m     13\u001b[0m all_preds\u001b[38;5;241m.\u001b[39mextend(preds\u001b[38;5;241m.\u001b[39mcpu()\u001b[38;5;241m.\u001b[39mnumpy())\n\u001b[0;32m     14\u001b[0m all_labels\u001b[38;5;241m.\u001b[39mextend(labels\u001b[38;5;241m.\u001b[39mcpu()\u001b[38;5;241m.\u001b[39mnumpy())\n",
      "\u001b[1;31mKeyboardInterrupt\u001b[0m: "
     ]
    }
   ],
   "source": [
    "loss, accuracy, precision, recall, f1, all_preds, all_labels = evaluate(model, test_dataloader, criterion)"
   ]
  },
  {
   "cell_type": "code",
   "execution_count": null,
   "id": "fd1fcc57",
   "metadata": {},
   "outputs": [],
   "source": [
    "get_cm(all_preds, all_labels)"
   ]
  },
  {
   "cell_type": "code",
   "execution_count": 42,
   "id": "5f5dbfaa",
   "metadata": {},
   "outputs": [],
   "source": [
    "model2 = models.vgg19().to(device)"
   ]
  },
  {
   "cell_type": "code",
   "execution_count": 43,
   "id": "b71d0bf3",
   "metadata": {},
   "outputs": [],
   "source": [
    "model2.classifier[6] = nn.Linear(4096, 15).to(device)"
   ]
  },
  {
   "cell_type": "code",
   "execution_count": 44,
   "id": "b1ce1e43",
   "metadata": {},
   "outputs": [],
   "source": [
    "for param in model2.parameters():\n",
    "    param.requires_grad = True"
   ]
  },
  {
   "cell_type": "code",
   "execution_count": 45,
   "id": "dc939099",
   "metadata": {},
   "outputs": [],
   "source": [
    "optimizer2 = torch.optim.SGD(model2.parameters(), lr=0.01, momentum=0.9)"
   ]
  },
  {
   "cell_type": "code",
   "execution_count": null,
   "id": "53785810",
   "metadata": {},
   "outputs": [],
   "source": [
    "train(model2, train_dataloader, val_dataloader, criterion, optimizer2, 10)"
   ]
  },
  {
   "cell_type": "code",
   "execution_count": null,
   "id": "9c67b895",
   "metadata": {},
   "outputs": [],
   "source": [
    "loss, accuracy, precision, recall, f1, all_preds, all_labels = evaluate(model2, test_dataloader, criterion2) "
   ]
  },
  {
   "cell_type": "code",
   "execution_count": null,
   "id": "7ee4b0b1",
   "metadata": {},
   "outputs": [],
   "source": [
    "get_cm(all_preds, all_labels)"
   ]
  }
 ],
 "metadata": {
  "kernelspec": {
   "display_name": "Python 3 (ipykernel)",
   "language": "python",
   "name": "python3"
  },
  "language_info": {
   "codemirror_mode": {
    "name": "ipython",
    "version": 3
   },
   "file_extension": ".py",
   "mimetype": "text/x-python",
   "name": "python",
   "nbconvert_exporter": "python",
   "pygments_lexer": "ipython3",
   "version": "3.11.5"
  }
 },
 "nbformat": 4,
 "nbformat_minor": 5
}
